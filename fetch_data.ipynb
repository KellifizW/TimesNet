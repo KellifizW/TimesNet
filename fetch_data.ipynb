{
 "cells": [
  {
   "cell_type": "code",
   "execution_count": null,
   "id": "172c1a7f",
   "metadata": {
    "lines_to_next_cell": 1
   },
   "outputs": [],
   "source": [
    "import yfinance as yf\n",
    "import pandas as pd\n",
    "import os"
   ]
  },
  {
   "cell_type": "code",
   "execution_count": null,
   "id": "e6b8e393",
   "metadata": {
    "lines_to_next_cell": 1
   },
   "outputs": [],
   "source": [
    "def fetch_stock_data(ticker=\"AAPL\", period=\"1y\", output_dir=\"data/raw\"):\n",
    "    os.makedirs(output_dir, exist_ok=True)\n",
    "    stock = yf.Ticker(ticker)\n",
    "    df = stock.history(period=period)\n",
    "    df = df[[\"Open\", \"High\", \"Low\", \"Close\", \"Volume\"]].reset_index()\n",
    "    df[\"Date\"] = df[\"Date\"].dt.strftime(\"%Y-%m-%d\")\n",
    "    output_path = os.path.join(output_dir, f\"{ticker.lower()}_daily.csv\")\n",
    "    df.to_csv(output_path, index=False)\n",
    "    print(f\"Data saved to {output_path}\")"
   ]
  },
  {
   "cell_type": "code",
   "execution_count": null,
   "id": "1e3970ca",
   "metadata": {},
   "outputs": [],
   "source": [
    "if __name__ == \"__main__\":\n",
    "    fetch_stock_data()"
   ]
  }
 ],
 "metadata": {
  "jupytext": {
   "cell_metadata_filter": "-all",
   "main_language": "python",
   "notebook_metadata_filter": "-all"
  }
 },
 "nbformat": 4,
 "nbformat_minor": 5
}
