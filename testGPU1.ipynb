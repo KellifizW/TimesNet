{
 "cells": [
  {
   "cell_type": "code",
   "execution_count": null,
   "id": "5a772145",
   "metadata": {},
   "outputs": [],
   "source": [
    "import numpy as np\n",
    "dates = np.load('results/long_term_forecast_stock_forecast_TimesNet_sl15_pl5_dm90_df90_el2_dropout0.1_test_dates.npy')\n",
    "print(dates[0])"
   ]
  }
 ],
 "metadata": {
  "jupytext": {
   "cell_metadata_filter": "-all",
   "main_language": "python",
   "notebook_metadata_filter": "-all"
  }
 },
 "nbformat": 4,
 "nbformat_minor": 5
}
