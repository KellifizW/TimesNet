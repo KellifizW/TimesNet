{
 "cells": [
  {
   "cell_type": "code",
   "execution_count": null,
   "id": "e5c55ecb",
   "metadata": {
    "lines_to_next_cell": 1
   },
   "outputs": [],
   "source": [
    "import argparse\n",
    "import torch\n",
    "from exp.exp_stock_forecast import Exp_Stock_Forecast\n",
    "from data_provider.data_loader import StockDataset"
   ]
  },
  {
   "cell_type": "code",
   "execution_count": null,
   "id": "c410cd2d",
   "metadata": {
    "lines_to_next_cell": 1
   },
   "outputs": [],
   "source": [
    "def main():\n",
    "    parser = argparse.ArgumentParser()\n",
    "    parser.add_argument(\"--model\", type=str, default=\"TimesNet\")\n",
    "    parser.add_argument(\"--data_path\", type=str, default=\"data/raw/aapl_daily.csv\")\n",
    "    parser.add_argument(\"--seq_len\", type=int, default=15)\n",
    "    parser.add_argument(\"--pred_len\", type=int, default=5)\n",
    "    parser.add_argument(\"--use_gpu\", type=bool, default=True)\n",
    "    parser.add_argument(\"--d_model\", type=int, default=90)\n",
    "    parser.add_argument(\"--d_ff\", type=int, default=90)\n",
    "    parser.add_argument(\"--top_k\", type=int, default=5)\n",
    "    parser.add_argument(\"--num_kernels\", type=int, default=6)\n",
    "    parser.add_argument(\"--e_layers\", type=int, default=2)\n",
    "    parser.add_argument(\"--dropout\", type=float, default=0.1)\n",
    "    parser.add_argument(\"--gpu_type\", type=str, default=\"cuda\")  # 添加 gpu_type\n",
    "    parser.add_argument(\"--label_len\", type=int, default=0)  # 添加 label_len\n",
    "    parser.add_argument(\"--embed\", type=str, default=\"timeF\")  # 添加 embed\n",
    "    parser.add_argument(\"--freq\", type=str, default=\"d\")  # 添加 freq\n",
    "    args = parser.parse_args()\n",
    "\n",
    "    # 動態設置 enc_in, dec_in, c_out\n",
    "    dataset = StockDataset(data_path=args.data_path, seq_len=args.seq_len, pred_len=args.pred_len, split=\"test\")\n",
    "    args.enc_in = dataset.get_enc_in()  # 動態獲取 enc_in，例如 5\n",
    "    args.dec_in = args.enc_in  # 解碼器輸入維度與編碼器相同\n",
    "    args.c_out = args.enc_in  # 輸出維度與編碼器相同（預測所有特徵）\n",
    "    # 如果只預測 Close，可以設置：\n",
    "    # args.c_out = 1\n",
    "\n",
    "    # 設置設備\n",
    "    if torch.cuda.is_available() and args.use_gpu:\n",
    "        args.device = torch.device('cuda:0')\n",
    "        print('Using GPU')\n",
    "    else:\n",
    "        if hasattr(torch.backends, \"mps\"):\n",
    "            args.device = torch.device(\"mps\") if torch.backends.mps.is_available() else torch.device(\"cpu\")\n",
    "        else:\n",
    "            args.device = torch.device(\"cpu\")\n",
    "        print('Using cpu or mps')\n",
    "\n",
    "    args.data_loader = StockDataset\n",
    "    exp = Exp_Stock_Forecast(args)\n",
    "    exp.predict()\n",
    "\n",
    "    # 清理 GPU 記憶體\n",
    "    if args.gpu_type == 'mps':\n",
    "        torch.backends.mps.empty_cache()\n",
    "    elif args.gpu_type == 'cuda':\n",
    "        torch.cuda.empty_cache()"
   ]
  },
  {
   "cell_type": "code",
   "execution_count": null,
   "id": "a2767b24",
   "metadata": {},
   "outputs": [],
   "source": [
    "if __name__ == \"__main__\":\n",
    "    main()"
   ]
  }
 ],
 "metadata": {
  "jupytext": {
   "cell_metadata_filter": "-all",
   "main_language": "python",
   "notebook_metadata_filter": "-all"
  }
 },
 "nbformat": 4,
 "nbformat_minor": 5
}
