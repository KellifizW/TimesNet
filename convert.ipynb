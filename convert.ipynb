{
 "cells": [
  {
   "cell_type": "code",
   "execution_count": null,
   "id": "34084016",
   "metadata": {
    "lines_to_next_cell": 1
   },
   "outputs": [],
   "source": [
    "import os\n",
    "import subprocess"
   ]
  },
  {
   "cell_type": "code",
   "execution_count": null,
   "id": "f8527c64",
   "metadata": {
    "lines_to_next_cell": 1
   },
   "outputs": [],
   "source": [
    "def convert_files(directory, direction=\"py_to_ipynb\"):\n",
    "    for root, dirs, files in os.walk(directory):\n",
    "        for file in files:\n",
    "            file_path = os.path.join(root, file)\n",
    "            if direction == \"py_to_ipynb\" and file.endswith(\".py\"):\n",
    "                print(f\"Converting {file_path} to .ipynb\")\n",
    "                subprocess.run([\"jupytext\", \"--to\", \"notebook\", file_path])\n",
    "            elif direction == \"ipynb_to_py\" and file.endswith(\".ipynb\"):\n",
    "                print(f\"Converting {file_path} to .py\")\n",
    "                subprocess.run([\"jupytext\", \"--to\", \"py\", file_path])"
   ]
  },
  {
   "cell_type": "code",
   "execution_count": null,
   "id": "775ae137",
   "metadata": {},
   "outputs": [],
   "source": [
    "if __name__ == \"__main__\":\n",
    "    project_dir = \".\"\n",
    "    convert_files(project_dir, direction=\"py_to_ipynb\")"
   ]
  }
 ],
 "metadata": {
  "jupytext": {
   "cell_metadata_filter": "-all",
   "main_language": "python",
   "notebook_metadata_filter": "-all"
  }
 },
 "nbformat": 4,
 "nbformat_minor": 5
}
