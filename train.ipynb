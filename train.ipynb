{
 "cells": [
  {
   "cell_type": "code",
   "execution_count": null,
   "id": "7e631c7a",
   "metadata": {
    "lines_to_next_cell": 1
   },
   "outputs": [],
   "source": [
    "import argparse\n",
    "from exp.exp_stock_forecast import Exp_Stock_Forecast\n",
    "from data_provider.data_loader import StockDataset"
   ]
  },
  {
   "cell_type": "code",
   "execution_count": null,
   "id": "91c7c1e9",
   "metadata": {
    "lines_to_next_cell": 1
   },
   "outputs": [],
   "source": [
    "def main():\n",
    "    parser = argparse.ArgumentParser()\n",
    "    parser.add_argument(\"--model\", type=str, default=\"TimesNet\")\n",
    "    parser.add_argument(\"--data_path\", type=str, default=\"data/raw/aapl_daily.csv\")\n",
    "    parser.add_argument(\"--seq_len\", type=int, default=15)\n",
    "    parser.add_argument(\"--pred_len\", type=int, default=5)\n",
    "    parser.add_argument(\"--train_epochs\", type=int, default=150)\n",
    "    parser.add_argument(\"--learning_rate\", type=float, default=0.0001)\n",
    "    parser.add_argument(\"--use_gpu\", type=bool, default=True)\n",
    "    parser.add_argument(\"--d_model\", type=int, default=90)\n",
    "    parser.add_argument(\"--d_ff\", type=int, default=90)\n",
    "    parser.add_argument(\"--top_k\", type=int, default=5)\n",
    "    parser.add_argument(\"--num_kernels\", type=int, default=6)\n",
    "    parser.add_argument(\"--e_layers\", type=int, default=2)\n",
    "    parser.add_argument(\"--dropout\", type=float, default=0.1)\n",
    "    parser.add_argument(\"--gpu_type\", type=str, default=\"cuda\")\n",
    "    parser.add_argument(\"--label_len\", type=int, default=0)\n",
    "    parser.add_argument(\"--embed\", type=str, default=\"timeF\")\n",
    "    parser.add_argument(\"--freq\", type=str, default=\"d\")\n",
    "    args = parser.parse_args()\n",
    "\n",
    "    # 動態設置 enc_in, dec_in, c_out\n",
    "    dataset = StockDataset(data_path=args.data_path, seq_len=args.seq_len, pred_len=args.pred_len, split=\"train\")\n",
    "    args.enc_in = dataset.get_enc_in()\n",
    "    args.dec_in = args.enc_in\n",
    "    args.c_out = args.enc_in\n",
    "\n",
    "    args.data_loader = StockDataset\n",
    "    exp = Exp_Stock_Forecast(args)\n",
    "    exp.train()"
   ]
  },
  {
   "cell_type": "code",
   "execution_count": null,
   "id": "0c546c55",
   "metadata": {},
   "outputs": [],
   "source": [
    "if __name__ == \"__main__\":\n",
    "    main()"
   ]
  }
 ],
 "metadata": {
  "jupytext": {
   "cell_metadata_filter": "-all",
   "main_language": "python",
   "notebook_metadata_filter": "-all"
  }
 },
 "nbformat": 4,
 "nbformat_minor": 5
}
